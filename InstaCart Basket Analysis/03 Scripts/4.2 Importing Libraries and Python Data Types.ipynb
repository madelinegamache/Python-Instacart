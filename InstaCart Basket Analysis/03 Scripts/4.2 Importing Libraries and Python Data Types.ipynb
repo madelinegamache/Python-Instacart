{
 "cells": [
  {
   "cell_type": "markdown",
   "id": "6fe527ed",
   "metadata": {},
   "source": [
    "#01. Importing Libraries"
   ]
  },
  {
   "cell_type": "code",
   "execution_count": 1,
   "id": "ad6dff85",
   "metadata": {},
   "outputs": [],
   "source": [
    "# Import libraries\n",
    "import pandas as pd\n",
    "import numpy as np\n",
    "import os"
   ]
  },
  {
   "cell_type": "markdown",
   "id": "ebe69cf0",
   "metadata": {},
   "source": [
    "# 02. Data Types"
   ]
  },
  {
   "cell_type": "code",
   "execution_count": 2,
   "id": "55ff7228",
   "metadata": {},
   "outputs": [],
   "source": [
    "x = 2"
   ]
  },
  {
   "cell_type": "code",
   "execution_count": 3,
   "id": "e15319df",
   "metadata": {},
   "outputs": [
    {
     "data": {
      "text/plain": [
       "2"
      ]
     },
     "execution_count": 3,
     "metadata": {},
     "output_type": "execute_result"
    }
   ],
   "source": [
    "x"
   ]
  },
  {
   "cell_type": "code",
   "execution_count": 4,
   "id": "39250e14",
   "metadata": {},
   "outputs": [
    {
     "name": "stdout",
     "output_type": "stream",
     "text": [
      "2\n"
     ]
    }
   ],
   "source": [
    "print(x)"
   ]
  },
  {
   "cell_type": "code",
   "execution_count": 5,
   "id": "d726565d",
   "metadata": {},
   "outputs": [
    {
     "data": {
      "text/plain": [
       "int"
      ]
     },
     "execution_count": 5,
     "metadata": {},
     "output_type": "execute_result"
    }
   ],
   "source": [
    "type(x)"
   ]
  },
  {
   "cell_type": "code",
   "execution_count": 6,
   "id": "62936efa",
   "metadata": {},
   "outputs": [],
   "source": [
    "y = 5.678"
   ]
  },
  {
   "cell_type": "code",
   "execution_count": 7,
   "id": "1439782e",
   "metadata": {},
   "outputs": [
    {
     "data": {
      "text/plain": [
       "float"
      ]
     },
     "execution_count": 7,
     "metadata": {},
     "output_type": "execute_result"
    }
   ],
   "source": [
    "type(y)"
   ]
  },
  {
   "cell_type": "code",
   "execution_count": 8,
   "id": "9d8e62d5",
   "metadata": {},
   "outputs": [],
   "source": [
    "z = 'Brazil'"
   ]
  },
  {
   "cell_type": "code",
   "execution_count": 9,
   "id": "ac68bf6c",
   "metadata": {},
   "outputs": [
    {
     "data": {
      "text/plain": [
       "str"
      ]
     },
     "execution_count": 9,
     "metadata": {},
     "output_type": "execute_result"
    }
   ],
   "source": [
    "type(z)"
   ]
  },
  {
   "cell_type": "code",
   "execution_count": 10,
   "id": "23a79592",
   "metadata": {},
   "outputs": [
    {
     "ename": "NameError",
     "evalue": "name 'mania' is not defined",
     "output_type": "error",
     "traceback": [
      "\u001b[0;31m---------------------------------------------------------------------------\u001b[0m",
      "\u001b[0;31mNameError\u001b[0m                                 Traceback (most recent call last)",
      "Cell \u001b[0;32mIn[10], line 1\u001b[0m\n\u001b[0;32m----> 1\u001b[0m \u001b[38;5;28mtype\u001b[39m(\u001b[43mmania\u001b[49m)\n",
      "\u001b[0;31mNameError\u001b[0m: name 'mania' is not defined"
     ]
    }
   ],
   "source": [
    "type(mania)"
   ]
  },
  {
   "cell_type": "code",
   "execution_count": 11,
   "id": "f0fd4841",
   "metadata": {},
   "outputs": [
    {
     "data": {
      "text/plain": [
       "str"
      ]
     },
     "execution_count": 11,
     "metadata": {},
     "output_type": "execute_result"
    }
   ],
   "source": [
    "type('mania')"
   ]
  },
  {
   "cell_type": "code",
   "execution_count": 14,
   "id": "f98c2812",
   "metadata": {},
   "outputs": [
    {
     "data": {
      "text/plain": [
       "bool"
      ]
     },
     "execution_count": 14,
     "metadata": {},
     "output_type": "execute_result"
    }
   ],
   "source": [
    "type(True)"
   ]
  },
  {
   "cell_type": "code",
   "execution_count": 16,
   "id": "f9321433",
   "metadata": {},
   "outputs": [
    {
     "data": {
      "text/plain": [
       "bool"
      ]
     },
     "execution_count": 16,
     "metadata": {},
     "output_type": "execute_result"
    }
   ],
   "source": [
    "type(False)"
   ]
  },
  {
   "cell_type": "code",
   "execution_count": 17,
   "id": "3ad4d1c9",
   "metadata": {},
   "outputs": [
    {
     "name": "stdout",
     "output_type": "stream",
     "text": [
      "2\n"
     ]
    }
   ],
   "source": [
    "print(x)"
   ]
  },
  {
   "cell_type": "code",
   "execution_count": 18,
   "id": "4dbc9994",
   "metadata": {},
   "outputs": [
    {
     "data": {
      "text/plain": [
       "6"
      ]
     },
     "execution_count": 18,
     "metadata": {},
     "output_type": "execute_result"
    }
   ],
   "source": [
    "x + 4"
   ]
  },
  {
   "cell_type": "code",
   "execution_count": 19,
   "id": "b0e2591d",
   "metadata": {},
   "outputs": [
    {
     "data": {
      "text/plain": [
       "7.678"
      ]
     },
     "execution_count": 19,
     "metadata": {},
     "output_type": "execute_result"
    }
   ],
   "source": [
    "x + y"
   ]
  },
  {
   "cell_type": "code",
   "execution_count": 20,
   "id": "3fc2c027",
   "metadata": {},
   "outputs": [],
   "source": [
    "x = x + 4"
   ]
  },
  {
   "cell_type": "code",
   "execution_count": 21,
   "id": "f17ccd8f",
   "metadata": {},
   "outputs": [
    {
     "name": "stdout",
     "output_type": "stream",
     "text": [
      "6\n"
     ]
    }
   ],
   "source": [
    "print(x)"
   ]
  },
  {
   "cell_type": "code",
   "execution_count": 22,
   "id": "e49cad09",
   "metadata": {},
   "outputs": [],
   "source": [
    "a = 'Hello,'"
   ]
  },
  {
   "cell_type": "code",
   "execution_count": 23,
   "id": "2157f5f5",
   "metadata": {},
   "outputs": [],
   "source": [
    "b = 'Marley'"
   ]
  },
  {
   "cell_type": "code",
   "execution_count": 24,
   "id": "2d74a4d7",
   "metadata": {},
   "outputs": [
    {
     "data": {
      "text/plain": [
       "'Hello,Marley'"
      ]
     },
     "execution_count": 24,
     "metadata": {},
     "output_type": "execute_result"
    }
   ],
   "source": [
    "a + b"
   ]
  },
  {
   "cell_type": "code",
   "execution_count": 25,
   "id": "93c07c18",
   "metadata": {},
   "outputs": [
    {
     "data": {
      "text/plain": [
       "False"
      ]
     },
     "execution_count": 25,
     "metadata": {},
     "output_type": "execute_result"
    }
   ],
   "source": [
    "x == y"
   ]
  },
  {
   "cell_type": "code",
   "execution_count": 26,
   "id": "77612769",
   "metadata": {},
   "outputs": [
    {
     "data": {
      "text/plain": [
       "bool"
      ]
     },
     "execution_count": 26,
     "metadata": {},
     "output_type": "execute_result"
    }
   ],
   "source": [
    "type(x == y)"
   ]
  },
  {
   "cell_type": "code",
   "execution_count": 27,
   "id": "3103e9f6",
   "metadata": {},
   "outputs": [],
   "source": [
    "x = x + 45"
   ]
  },
  {
   "cell_type": "code",
   "execution_count": 28,
   "id": "49a1e509",
   "metadata": {},
   "outputs": [
    {
     "name": "stdout",
     "output_type": "stream",
     "text": [
      "51\n"
     ]
    }
   ],
   "source": [
    "print(x)"
   ]
  },
  {
   "cell_type": "code",
   "execution_count": 29,
   "id": "b6ecc46a",
   "metadata": {},
   "outputs": [],
   "source": [
    "c = 49"
   ]
  },
  {
   "cell_type": "code",
   "execution_count": 30,
   "id": "b70a4695",
   "metadata": {},
   "outputs": [
    {
     "data": {
      "text/plain": [
       "100"
      ]
     },
     "execution_count": 30,
     "metadata": {},
     "output_type": "execute_result"
    }
   ],
   "source": [
    "x + c"
   ]
  },
  {
   "cell_type": "code",
   "execution_count": 31,
   "id": "59d8b30a",
   "metadata": {},
   "outputs": [],
   "source": [
    "c = c + 1"
   ]
  },
  {
   "cell_type": "code",
   "execution_count": 32,
   "id": "2334ed4d",
   "metadata": {},
   "outputs": [
    {
     "name": "stdout",
     "output_type": "stream",
     "text": [
      "50\n"
     ]
    }
   ],
   "source": [
    "print(c)"
   ]
  },
  {
   "cell_type": "code",
   "execution_count": 33,
   "id": "84ab879c",
   "metadata": {},
   "outputs": [],
   "source": [
    "d = 150"
   ]
  },
  {
   "cell_type": "code",
   "execution_count": 34,
   "id": "e440bbfb",
   "metadata": {},
   "outputs": [
    {
     "data": {
      "text/plain": [
       "100"
      ]
     },
     "execution_count": 34,
     "metadata": {},
     "output_type": "execute_result"
    }
   ],
   "source": [
    "d - c"
   ]
  },
  {
   "cell_type": "code",
   "execution_count": 35,
   "id": "2108fd29",
   "metadata": {},
   "outputs": [],
   "source": [
    "x = x + 49"
   ]
  },
  {
   "cell_type": "code",
   "execution_count": 36,
   "id": "0bc3bcf2",
   "metadata": {},
   "outputs": [
    {
     "name": "stdout",
     "output_type": "stream",
     "text": [
      "100\n"
     ]
    }
   ],
   "source": [
    "print(x)"
   ]
  },
  {
   "cell_type": "code",
   "execution_count": 37,
   "id": "27b9c82a",
   "metadata": {},
   "outputs": [
    {
     "data": {
      "text/plain": [
       "100"
      ]
     },
     "execution_count": 37,
     "metadata": {},
     "output_type": "execute_result"
    }
   ],
   "source": [
    "d + c - x"
   ]
  },
  {
   "cell_type": "code",
   "execution_count": 38,
   "id": "339acaa6",
   "metadata": {},
   "outputs": [],
   "source": [
    "e = 11.95"
   ]
  },
  {
   "cell_type": "code",
   "execution_count": 39,
   "id": "d4a3c9e7",
   "metadata": {},
   "outputs": [],
   "source": [
    "f = 89.50"
   ]
  },
  {
   "cell_type": "code",
   "execution_count": 40,
   "id": "0967aa42",
   "metadata": {},
   "outputs": [
    {
     "data": {
      "text/plain": [
       "7.489539748953975"
      ]
     },
     "execution_count": 40,
     "metadata": {},
     "output_type": "execute_result"
    }
   ],
   "source": [
    "f / e"
   ]
  },
  {
   "cell_type": "code",
   "execution_count": 41,
   "id": "0a5611ef",
   "metadata": {},
   "outputs": [],
   "source": [
    "g = 'ground'"
   ]
  },
  {
   "cell_type": "code",
   "execution_count": 42,
   "id": "89b3b3b5",
   "metadata": {},
   "outputs": [],
   "source": [
    "p = 'Play'"
   ]
  },
  {
   "cell_type": "code",
   "execution_count": 43,
   "id": "567888d2",
   "metadata": {},
   "outputs": [
    {
     "data": {
      "text/plain": [
       "'Playground'"
      ]
     },
     "execution_count": 43,
     "metadata": {},
     "output_type": "execute_result"
    }
   ],
   "source": [
    "p + g"
   ]
  },
  {
   "cell_type": "code",
   "execution_count": 44,
   "id": "b7659999",
   "metadata": {},
   "outputs": [],
   "source": [
    "s = 'What a lovely day.'"
   ]
  },
  {
   "cell_type": "code",
   "execution_count": 46,
   "id": "b5714dc7",
   "metadata": {},
   "outputs": [],
   "source": [
    "t = 'The sun was shining bright.'"
   ]
  },
  {
   "cell_type": "code",
   "execution_count": 47,
   "id": "d2868c7c",
   "metadata": {},
   "outputs": [
    {
     "data": {
      "text/plain": [
       "'What a lovely day.The sun was shining bright.'"
      ]
     },
     "execution_count": 47,
     "metadata": {},
     "output_type": "execute_result"
    }
   ],
   "source": [
    "s + t"
   ]
  },
  {
   "cell_type": "code",
   "execution_count": null,
   "id": "4c1c49e4",
   "metadata": {},
   "outputs": [],
   "source": []
  }
 ],
 "metadata": {
  "kernelspec": {
   "display_name": "Python 3 (ipykernel)",
   "language": "python",
   "name": "python3"
  },
  "language_info": {
   "codemirror_mode": {
    "name": "ipython",
    "version": 3
   },
   "file_extension": ".py",
   "mimetype": "text/x-python",
   "name": "python",
   "nbconvert_exporter": "python",
   "pygments_lexer": "ipython3",
   "version": "3.10.9"
  }
 },
 "nbformat": 4,
 "nbformat_minor": 5
}
